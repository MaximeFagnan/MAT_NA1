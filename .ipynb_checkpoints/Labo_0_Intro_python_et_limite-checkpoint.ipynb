{
 "cells": [
  {
   "cell_type": "markdown",
   "id": "a3159806",
   "metadata": {
    "slideshow": {
     "slide_type": "slide"
    }
   },
   "source": [
    "# Écrire vos noms ici!\n",
    "\n",
    "(Double cliquez les cellules pour les modifier)"
   ]
  },
  {
   "cell_type": "markdown",
   "id": "d4ad1481",
   "metadata": {
    "slideshow": {
     "slide_type": "slide"
    }
   },
   "source": [
    "\n",
    "## Les types de cellules des Notebooks Jupyter\n",
    "Nous utiliserons deux types de cellules dans le Jupyter Notebook.\n",
    "1. **Des cellules qui contiennent du texte.** Le texte est en format \"Markdown\".\n",
    "    * Il existe des commandes spéciales pour l'affichage du texte en Markdown (vous n'êtes pas obligé de les apprendre), par exemple:\n",
    "        * Un \"#\" en début de ligne désigne un titre comme dans la cellule précédente;\n",
    "        * Un \"##\" désigne un sous-titre;\n",
    "        * Un \"###\" un sous-sous-titre, et etc;\n",
    "        * Un \\\\ permet de ne pas faire la commande spéciale associé au symbole;\n",
    "        * L'astérisque \"\\*\" produit du texte en *italique*;\n",
    "        * La double astérisque produit du texte en **gras**;\n",
    "        * Il y a plusieurs autres commandes à déccouvrir!\n",
    "</br>\n",
    "</br>\n",
    "</br>\n",
    "2. **Des cellules avec du code**. Le code est du \"Python 3\".\n",
    "    * Dans une cellule de code, tout ce qui vient après un \"#\" sur une ligne est ignorée lorsque le code est roulé. On appelle ceci un commentaire. Les commentaires sont utilisés pour donner des détails sur le code.\n",
    "    * Sinon, les autres lignes sont interpretés en Python 3."
   ]
  },
  {
   "cell_type": "markdown",
   "id": "d8014727",
   "metadata": {
    "slideshow": {
     "slide_type": "slide"
    }
   },
   "source": [
    "## Introduction à Python (le langage de programmation)\n",
    "### Les variables et l'impression de données"
   ]
  },
  {
   "cell_type": "code",
   "execution_count": null,
   "id": "faa82fe4",
   "metadata": {
    "slideshow": {
     "slide_type": "fragment"
    }
   },
   "outputs": [],
   "source": [
    "# Ici on attribue la valeur 3 à la variable x\n",
    "x=3"
   ]
  },
  {
   "cell_type": "code",
   "execution_count": null,
   "id": "6d54cc9c",
   "metadata": {
    "slideshow": {
     "slide_type": "fragment"
    }
   },
   "outputs": [],
   "source": [
    "# Inscrire x nous retourne la valeur 3\n",
    "x"
   ]
  },
  {
   "cell_type": "code",
   "execution_count": null,
   "id": "82e3e31b",
   "metadata": {
    "slideshow": {
     "slide_type": "fragment"
    }
   },
   "outputs": [],
   "source": [
    "# La fonction print() nous permet d'imprimer plusieurs valeurs"
   ]
  },
  {
   "cell_type": "markdown",
   "id": "f63db98f",
   "metadata": {
    "slideshow": {
     "slide_type": "subslide"
    }
   },
   "source": [
    "#### Exercice\n",
    "Calculez <code>y</code> sur une ligne de code: $\\quad y=\\frac{(x-2)^7+1}{2-x}$.\n",
    "\n",
    "Calculez <code>z</code> sur une ligne de code: $\\quad z = 2x + 3y$.\n",
    "\n",
    "Imprimez <code>x+z</code>."
   ]
  },
  {
   "cell_type": "code",
   "execution_count": null,
   "id": "6b42c1c6",
   "metadata": {
    "slideshow": {
     "slide_type": "fragment"
    }
   },
   "outputs": [],
   "source": [
    "# MODIFIER: Faites les calculs appropriés"
   ]
  },
  {
   "cell_type": "markdown",
   "id": "d63e3d78",
   "metadata": {
    "slideshow": {
     "slide_type": "subslide"
    }
   },
   "source": [
    "Les variables peuvent aussi contenir du texte."
   ]
  },
  {
   "cell_type": "code",
   "execution_count": null,
   "id": "c5e8ad52",
   "metadata": {
    "slideshow": {
     "slide_type": "fragment"
    }
   },
   "outputs": [],
   "source": [
    "# Python à besoin des guillemets (\" \") pour comprendre que ce n'est pas une variable appelé salut.\n",
    "texte = \"salut\"  #python associe à la variable texte, la chaîne de caractères \"salut\"\n",
    "\n",
    "print(texte)\n",
    "# imprime salut"
   ]
  },
  {
   "cell_type": "markdown",
   "id": "63b3bdd9",
   "metadata": {
    "slideshow": {
     "slide_type": "subslide"
    }
   },
   "source": [
    "####  Exemple\n",
    "On peut aussi demandé du texte à l'usagé et imprimer du texte formatté (contenant des variables). "
   ]
  },
  {
   "cell_type": "code",
   "execution_count": null,
   "id": "39667833",
   "metadata": {
    "slideshow": {
     "slide_type": "fragment"
    }
   },
   "outputs": [],
   "source": [
    "# Demandons à l'usagé une valeur {x} et imprimons: \"Le double de {x} est {2x}\""
   ]
  },
  {
   "cell_type": "markdown",
   "id": "da2bdedd",
   "metadata": {
    "slideshow": {
     "slide_type": "fragment"
    }
   },
   "source": [
    "#### Exercice\n",
    "Demandez deux valeurs à l'usagé et imprimez: \"Le reste de la division de <code>{x}</code> par <code>{y}</code> est <code>{x % y}</code>\"."
   ]
  },
  {
   "cell_type": "code",
   "execution_count": null,
   "id": "0ab5dfeb",
   "metadata": {
    "slideshow": {
     "slide_type": "fragment"
    }
   },
   "outputs": [],
   "source": [
    "# MODIFIER : Imprimez les valeurs appropriées."
   ]
  },
  {
   "cell_type": "markdown",
   "id": "825b0260",
   "metadata": {
    "slideshow": {
     "slide_type": "slide"
    }
   },
   "source": [
    "### Les fonctions\n",
    "Une fonction en Python est un bout de code qui agit en fonction des arguments qu'on lui passe.\n",
    "Par exemple la fonction <code>print(argument_1)</code> imprime la valeur de <code>argument_1</code>.\n",
    "\n",
    "On peut aussi créer nos propres fonctions. La création de fonction dans Python ce fait en 3 étapes:\n",
    "1. on déclare \"def\" pour dire qu'on définie une fonction;\n",
    "2. on donne un nom à la fonction ainsi que des noms à ces arguments;\n",
    "3. le bloc indenté représente le corps de la fonction (tout ce que la fonction fera). \n",
    "\n",
    "Par exemple:"
   ]
  },
  {
   "cell_type": "code",
   "execution_count": null,
   "id": "987fd9b6",
   "metadata": {
    "slideshow": {
     "slide_type": "subslide"
    }
   },
   "outputs": [],
   "source": [
    "# Exemple explicatif\n",
    "def somme(argument_1, argument_2, etc):\n",
    "    # On fait des choses avec les arguments ici\n",
    "    return argument_1+argument_2+etc\n",
    "\n",
    "somme(1,7,3)"
   ]
  },
  {
   "cell_type": "code",
   "execution_count": null,
   "id": "adb5f08e",
   "metadata": {
    "slideshow": {
     "slide_type": "subslide"
    }
   },
   "outputs": [],
   "source": [
    "# Exemple de fonction mathématique classique.\n",
    "def f(x):\n",
    "    return (2*x+1)/(x+3)"
   ]
  },
  {
   "cell_type": "code",
   "execution_count": null,
   "id": "cc2f6e33",
   "metadata": {
    "slideshow": {
     "slide_type": "fragment"
    }
   },
   "outputs": [],
   "source": [
    "f(1) # on calcule f(1)"
   ]
  },
  {
   "cell_type": "code",
   "execution_count": null,
   "id": "0c7c0c98",
   "metadata": {
    "slideshow": {
     "slide_type": "fragment"
    }
   },
   "outputs": [],
   "source": [
    "f(3) # on calcule f(3)"
   ]
  },
  {
   "cell_type": "code",
   "execution_count": null,
   "id": "bc73cc1b",
   "metadata": {
    "slideshow": {
     "slide_type": "fragment"
    }
   },
   "outputs": [],
   "source": [
    "f(-3) # -3 ne fait pas partie du domaine (pas calculable)"
   ]
  },
  {
   "cell_type": "code",
   "execution_count": null,
   "id": "848b2323",
   "metadata": {
    "slideshow": {
     "slide_type": "subslide"
    }
   },
   "outputs": [],
   "source": [
    "#Exemple de fonction non-mathématique avec aucun argument et aucune valeur de sortie\n",
    "def aboyer():\n",
    "    print(\"woof\")\n",
    "    print(\"grr\")\n",
    "    # la fonction ne fait qu'imprimer \"woof\" et \"grr\""
   ]
  },
  {
   "cell_type": "code",
   "execution_count": null,
   "id": "8ee470ba",
   "metadata": {
    "slideshow": {
     "slide_type": "fragment"
    }
   },
   "outputs": [],
   "source": [
    "#aboyons deux fois\n",
    "aboyer()\n",
    "aboyer()"
   ]
  },
  {
   "cell_type": "markdown",
   "id": "55911170",
   "metadata": {
    "slideshow": {
     "slide_type": "subslide"
    }
   },
   "source": [
    "#### Exercice\n",
    "Pour le reste du cours on s'intéressera aux applications mathématiques.\n",
    "Définissez la fonction $g(x)=\\frac{x-3}{\\sqrt{x+1}-2}$ et imprimez $g(1)$ et $g(2)$."
   ]
  },
  {
   "cell_type": "code",
   "execution_count": null,
   "id": "041aea32",
   "metadata": {},
   "outputs": [],
   "source": [
    "# MODIFIEZ: Definissez la fonction g(x) imprimez g(8) et g(10)\n",
    "# Vérifiez vos réponses!!!"
   ]
  },
  {
   "cell_type": "markdown",
   "id": "bf4f3568",
   "metadata": {
    "slideshow": {
     "slide_type": "slide"
    }
   },
   "source": [
    "### Les commandes de contrôle\n",
    "La programmation est utile pour faire des gros calculs, ou pour automatiser des processus. Vivement les conditionels!"
   ]
  },
  {
   "cell_type": "markdown",
   "id": "4d763bd1",
   "metadata": {
    "slideshow": {
     "slide_type": "subslide"
    }
   },
   "source": [
    "#### Conditionels\n",
    "La structure va comme suit:\n",
    "\n",
    "<code>if condition_a_verifier:\n",
    "    # faire quelquechose si vrai\n",
    "else:\n",
    "    # optionnel\n",
    "    # faire quelquechose si faux\n",
    "</code>"
   ]
  },
  {
   "cell_type": "code",
   "execution_count": null,
   "id": "d301dd83",
   "metadata": {
    "slideshow": {
     "slide_type": "subslide"
    }
   },
   "outputs": [],
   "source": [
    "# Exemple:\n",
    "if 3 < -5:\n",
    "    print(\"3 est plus petit que -5\")\n",
    "    \n",
    "else:\n",
    "    print(\"-5 est plus petit que 3\")"
   ]
  },
  {
   "cell_type": "code",
   "execution_count": null,
   "id": "1559c455",
   "metadata": {
    "slideshow": {
     "slide_type": "subslide"
    }
   },
   "outputs": [],
   "source": [
    "# on peut creer une fonction qui imprime le resultat de la condition_a_verifier\n",
    "\n",
    "# x est plus petit que y?"
   ]
  },
  {
   "cell_type": "code",
   "execution_count": null,
   "id": "78613fe8",
   "metadata": {
    "slideshow": {
     "slide_type": "fragment"
    }
   },
   "outputs": [],
   "source": [
    "est_plus_petit_que(1,2)"
   ]
  },
  {
   "cell_type": "code",
   "execution_count": null,
   "id": "218a3079",
   "metadata": {
    "slideshow": {
     "slide_type": "fragment"
    }
   },
   "outputs": [],
   "source": [
    "est_plus_petit_que(2,1)"
   ]
  },
  {
   "cell_type": "markdown",
   "id": "6e8ee9d9",
   "metadata": {
    "slideshow": {
     "slide_type": "subslide"
    }
   },
   "source": [
    "#### Exercice\n",
    "Créer du code pour évaluer la fonction suivante \n",
    "$$\n",
    "f(x) =\n",
    "\\begin{cases}\n",
    "  x+1 & \\text{, si } x < 1 \\\\\n",
    "  -2x+4 & \\text{, si }  x \\geq 1\n",
    "\\end{cases}\n",
    "$$\n",
    "\n",
    "Les lignes que vous devez modifier sont précédés de commentaires.\n"
   ]
  },
  {
   "cell_type": "code",
   "execution_count": null,
   "id": "bb48954f",
   "metadata": {
    "slideshow": {
     "slide_type": "fragment"
    }
   },
   "outputs": [],
   "source": [
    "def f(x):\n",
    "    #Remplacez \"True\" sur la ligne suivante avec le conditionnel approprié\n",
    "    if True :  \n",
    "        return x+1\n",
    "    else:\n",
    "        #retourner le bon calcul sur la ligne suivante\n",
    "        return \n",
    "    \n",
    "#Vous pouvez essayez votre fonction sur plusieurs valeurs\n",
    "print(f(-2)) #-1\n",
    "print(f(1))  #2\n",
    "print(f(6))  #-8"
   ]
  },
  {
   "cell_type": "markdown",
   "id": "3878113c",
   "metadata": {
    "slideshow": {
     "slide_type": "slide"
    }
   },
   "source": [
    "### Listes et boucles\n",
    "Les listes et les boucles sont les autre éléments au coeur de l'automatisation. Pour chacun de ces concepts, je vous montre quelques commandes."
   ]
  },
  {
   "cell_type": "code",
   "execution_count": null,
   "id": "51e82952",
   "metadata": {
    "slideshow": {
     "slide_type": "subslide"
    }
   },
   "outputs": [],
   "source": [
    "# on peut créer une liste manuellement\n",
    "liste = [1,3,5,12]\n",
    "print(liste)\n",
    "# [1, 3, 5, 12]"
   ]
  },
  {
   "cell_type": "code",
   "execution_count": null,
   "id": "811dfc10",
   "metadata": {
    "slideshow": {
     "slide_type": "fragment"
    }
   },
   "outputs": [],
   "source": [
    "# range(n) est utile\n",
    "liste = list(range(8))\n",
    "print(liste)\n",
    "# [0, 1, 2, 3, 4, 5, 6, 7]"
   ]
  },
  {
   "cell_type": "code",
   "execution_count": null,
   "id": "00745762",
   "metadata": {
    "slideshow": {
     "slide_type": "fragment"
    }
   },
   "outputs": [],
   "source": [
    "# range() peut-être utilisé différemment\n",
    "liste = list(range(2,6)) #liste de 2 à 6 exclu\n",
    "print(liste)\n",
    "# [2, 3, 4, 5]"
   ]
  },
  {
   "cell_type": "code",
   "execution_count": null,
   "id": "427967eb",
   "metadata": {
    "slideshow": {
     "slide_type": "subslide"
    }
   },
   "outputs": [],
   "source": [
    "# on accéder aux éléments d'une liste selon leur position.\n",
    "x_s = [1,2,3,4]\n",
    "\n",
    "print(x_s[0])\n",
    "print(x_s[1])\n",
    "print(x_s[2])\n",
    "print(x_s[3])"
   ]
  },
  {
   "cell_type": "markdown",
   "id": "a4fa3723",
   "metadata": {
    "slideshow": {
     "slide_type": "subslide"
    }
   },
   "source": [
    "On peut imprimer tous les éléments de <code>x_s</code> en les accédants dans une boucle. "
   ]
  },
  {
   "cell_type": "code",
   "execution_count": null,
   "id": "181f524e",
   "metadata": {
    "slideshow": {
     "slide_type": "fragment"
    }
   },
   "outputs": [],
   "source": [
    "#on peut aussi traverser les éléments d'un itérable\n",
    "liste = [1, 2, 3, 4]\n",
    "\n",
    "def f(x):\n",
    "    return x**2\n",
    "\n",
    "for x in liste:\n",
    "    # imprimons chaque élément et leur image 1 à 1\n",
    "    print(f\"Lorsque x = {x}, f(x)={f(x)}\")"
   ]
  },
  {
   "cell_type": "markdown",
   "id": "66e38318",
   "metadata": {
    "slideshow": {
     "slide_type": "subslide"
    }
   },
   "source": [
    "#### Exercice\n",
    "Imprimez un compte à rebours de 10 à 0 dans la cellule suivante en utilisant une boucle de 0 à 10. Imprimez un seul nombre par ligne."
   ]
  },
  {
   "cell_type": "code",
   "execution_count": null,
   "id": "5a0b1ad3-097f-4e9a-9390-64912319b023",
   "metadata": {
    "slideshow": {
     "slide_type": "fragment"
    }
   },
   "outputs": [],
   "source": [
    "for x in range(11):\n",
    "    # MODIFIEZ"
   ]
  },
  {
   "cell_type": "markdown",
   "id": "342daa84-5ad3-426f-8875-2c19c23fa245",
   "metadata": {
    "slideshow": {
     "slide_type": "subslide"
    }
   },
   "source": [
    "Imprimez la séquence de valeurs $\\{1,\\;0.1,\\;0.01,\\;0.001,\\;...,\\;1\\times10^{-6}\\}$ dans la cellule suivante."
   ]
  },
  {
   "cell_type": "code",
   "execution_count": null,
   "id": "6c6beffe-7e6d-43cf-a5db-6537880d633b",
   "metadata": {
    "slideshow": {
     "slide_type": "fragment"
    }
   },
   "outputs": [],
   "source": [
    "n = # À MODIFIER\n",
    "for i in range(n):\n",
    "    print(  ) # À MODIFIER"
   ]
  },
  {
   "cell_type": "markdown",
   "id": "c778eb30-76f3-4cd6-bea2-f13ab1712977",
   "metadata": {
    "slideshow": {
     "slide_type": "slide"
    }
   },
   "source": [
    "### Application aux limites"
   ]
  },
  {
   "cell_type": "markdown",
   "id": "94e7f774-94b8-4878-b9d9-9c0e975b304e",
   "metadata": {
    "slideshow": {
     "slide_type": "subslide"
    }
   },
   "source": [
    "Nous pouvons maintenant utiliser tout ce que nous avons appris pour visualiser des limites numériquement. \n",
    "\n",
    "Prenons d'abord la fonction $g(x)=\\frac{x-3}{\\sqrt{x+1}-2}$ que vous avez définis plus haut et évaluons la limite $\\lim\\limits_{x \\to 3^+}{g(x)}$ numériquement."
   ]
  },
  {
   "cell_type": "code",
   "execution_count": null,
   "id": "1036c04a-d3f1-4fc2-acce-6d029da1b5a5",
   "metadata": {
    "slideshow": {
     "slide_type": "fragment"
    }
   },
   "outputs": [],
   "source": [
    "for i in range(7):\n",
    "    # i prendra les valeurs 0,1,2,3,4,5,6 à chaque itération\n",
    "    # X doit prendre des valeurs de plus en plus proches de 1, mais tjrs plus grandes que 1.\n",
    "    x = 0  # MODIFIEZ\n",
    "    y= f(x)\n",
    "    print(f\"Lorsque x = {x:.7f}, y = {y:.7f}\")"
   ]
  },
  {
   "cell_type": "markdown",
   "id": "6ffdd8aa-9a34-4b83-b500-c09f17131507",
   "metadata": {
    "slideshow": {
     "slide_type": "subslide"
    }
   },
   "source": [
    "####  <font color='red'>Conjecturez</font>\n",
    "Remplacez <code>...</code> par la valeur appropriée dans l'expression suivante:\n",
    "\n",
    "$\\lim\\limits_{x \\to 3^+}{g(x)}=$ <code>...</code>"
   ]
  }
 ],
 "metadata": {
  "celltoolbar": "Slideshow",
  "kernelspec": {
   "display_name": "Python 3 (ipykernel)",
   "language": "python",
   "name": "python3"
  },
  "language_info": {
   "codemirror_mode": {
    "name": "ipython",
    "version": 3
   },
   "file_extension": ".py",
   "mimetype": "text/x-python",
   "name": "python",
   "nbconvert_exporter": "python",
   "pygments_lexer": "ipython3",
   "version": "3.11.7"
  }
 },
 "nbformat": 4,
 "nbformat_minor": 5
}
