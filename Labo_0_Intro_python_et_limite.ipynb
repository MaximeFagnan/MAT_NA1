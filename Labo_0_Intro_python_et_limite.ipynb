{
 "cells": [
  {
   "cell_type": "markdown",
   "id": "a3159806",
   "metadata": {},
   "source": [
    "# Écrire vos noms ici!\n",
    "\n",
    "(Double cliquez les cellules pour les modifiés)"
   ]
  },
  {
   "cell_type": "markdown",
   "id": "d4ad1481",
   "metadata": {},
   "source": [
    "## Formats de cellules\n",
    "Nous utiliserons deux types de cellules dans le Jupyter Notebook.\n",
    "1. **Des cellules qui contiennent du texte.** Le texte est en format \"Markdown\".\n",
    "    * Il existe des commandes spéciales pour l'affichage du texte en Markdown (vous n'êtes pas obligé de les apprendre), par exemple:\n",
    "        * Un \"#\" en début de ligne désigne un titre comme dans la cellule précédente;\n",
    "        * Un \"##\" désigne un sous-titre;\n",
    "        * Un \"###\" un sous-sous-titre, et etc;\n",
    "        * Un \\\\ permet de ne pas faire la commande spéciale associé au symbole;\n",
    "        * L'astérisque \"\\*\" produit du texte en *italique*;\n",
    "        * La double astérisque produit du texte en **gras**;\n",
    "        * Il y a plusieurs autres commandes à déccouvrir!\n",
    "</br>\n",
    "</br>\n",
    "</br>\n",
    "2. **Des cellules avec du code**. Le code est du \"Python 3\".\n",
    "    * Dans une cellule de code, tout ce qui vien après un \"#\" sur une ligne est ignorée lorsque le code est roulé. On appelle ceci un commentaire. Les commentaires sont utilisés pour donner des détails sur le code.\n",
    "    * Toutes les autres lignes sont interpretés comme du Python 3."
   ]
  },
  {
   "cell_type": "markdown",
   "id": "d8014727",
   "metadata": {},
   "source": [
    "## Introduction au codage en Python\n",
    "### Les variables et l'impression de données"
   ]
  },
  {
   "cell_type": "code",
   "execution_count": null,
   "id": "faa82fe4",
   "metadata": {},
   "outputs": [],
   "source": [
    "# Ici on attribue la valeur 3 à la variable x\n",
    "x=3"
   ]
  },
  {
   "cell_type": "code",
   "execution_count": null,
   "id": "6d54cc9c",
   "metadata": {},
   "outputs": [],
   "source": [
    "# Inscrire x nous retourne la valeur 3\n",
    "x"
   ]
  },
  {
   "cell_type": "code",
   "execution_count": null,
   "id": "6631d4d0",
   "metadata": {},
   "outputs": [],
   "source": [
    "# Lorsqu'on roule du code, seulement la dernière valeur est retourné par le terminal\n",
    "x+5\n",
    "x-2\n",
    "3*x   # multiplication avec l'étoile \n",
    "x**4  # exponentiation avec la double étoile"
   ]
  },
  {
   "cell_type": "code",
   "execution_count": null,
   "id": "e1116f7c",
   "metadata": {},
   "outputs": [],
   "source": [
    "# On peut imprimer différente valeur par contre:\n",
    "print(x+5)\n",
    "print(x-2)\n",
    "print(3*x)   # multiplication avec l'étoile \n",
    "print(x**4)  # exponentiation avec la double étoile"
   ]
  },
  {
   "cell_type": "code",
   "execution_count": null,
   "id": "f1ee1ee1",
   "metadata": {},
   "outputs": [],
   "source": [
    "# Les variables doivent commencer avec une lettre\n",
    "salut = x**2 + 2*x  #la variable salut contient x au carré + 2x = 15\n",
    "print(salut)\n",
    "# imprime 15"
   ]
  },
  {
   "cell_type": "code",
   "execution_count": null,
   "id": "c5e8ad52",
   "metadata": {},
   "outputs": [],
   "source": [
    "# Une variable peut contenir du texte (appelé \"String\" ou \"Chaîne de caractères\").\n",
    "# Python à besoin des guillemets (\" \") pour comprendre que ce n'est pas une variable appelé salut.\n",
    "texte = \"salut\"  #python associe à la variable texte, la chaîne de caractères \"salut\"\n",
    "chiffre = salut  #python associe à la variable chiffre, la valeur de salut (qui est 15).\n",
    "\n",
    "print(texte)\n",
    "# imprime salut\n",
    "\n",
    "print(chiffre)\n",
    "# imprime 15"
   ]
  },
  {
   "cell_type": "markdown",
   "id": "51d2714b",
   "metadata": {},
   "source": [
    "Comme ça peut devenir mêlant rapidement, on choisi (par convention) des noms appropriés pour les variables.\n",
    "<code>salut</code> n'est jamais un nom de variable approprié.\n",
    "<code>x</code>, <code>y</code> sont des noms de variables appropriés pour des variables indépendantes et dépendantes respectivement.\n",
    "\n",
    "<code>texte</code> et <code>chiffre</code> étaient appropriés dans le contexte de ce que je voulais démontré."
   ]
  },
  {
   "cell_type": "markdown",
   "id": "825b0260",
   "metadata": {},
   "source": [
    "### Les fonctions\n",
    "Une fonction en Python est un bout de code qui agit en fonction des arguments qu'on lui passe.\n",
    "Par exemple la fonction <code>print(argument_1)</code> imprime la valeur de <code>argument_1</code>.\n",
    "\n",
    "On peut aussi créer nos propres fonctions. La création de fonction dans Python ce fait en 3 étapes:\n",
    "1. on déclare \"def\" pour dire qu'on définie une fonction;\n",
    "2. on donne un nom à la fonction ainsi que des noms à ces arguments;\n",
    "3. le bloc indenté représente le corps de la fonction (tout ce que la fonction fera). \n",
    "\n",
    "Par exemple:"
   ]
  },
  {
   "cell_type": "code",
   "execution_count": null,
   "id": "987fd9b6",
   "metadata": {},
   "outputs": [],
   "source": [
    "# Exemple explicatif\n",
    "def nom_de_la_fonction(argument_1, argument_2, etc):\n",
    "    # On fait des choses avec les arguments ici\n",
    "    return argument_1+argument_2+etc\n",
    "\n",
    "nom_de_la_fonction(1,2,3)"
   ]
  },
  {
   "cell_type": "code",
   "execution_count": null,
   "id": "adb5f08e",
   "metadata": {},
   "outputs": [],
   "source": [
    "# Exemple de fonction mathématique.\n",
    "def f(x):\n",
    "    return (2*x+1)/(x+3)"
   ]
  },
  {
   "cell_type": "code",
   "execution_count": null,
   "id": "cc2f6e33",
   "metadata": {},
   "outputs": [],
   "source": [
    "f(1) # on calcule f(1)"
   ]
  },
  {
   "cell_type": "code",
   "execution_count": null,
   "id": "0c7c0c98",
   "metadata": {},
   "outputs": [],
   "source": [
    "f(3) # on calcule f(3)"
   ]
  },
  {
   "cell_type": "code",
   "execution_count": null,
   "id": "bc73cc1b",
   "metadata": {},
   "outputs": [],
   "source": [
    "f(-3) # -3 ne fait pas partie du domaine (pas calculable)"
   ]
  },
  {
   "cell_type": "code",
   "execution_count": null,
   "id": "848b2323",
   "metadata": {},
   "outputs": [],
   "source": [
    "#Exemple de fonction non-mathématique avec aucun argument et aucune valeur de sortie\n",
    "def aboyer():\n",
    "    print(\"woof\")\n",
    "    print(\"grr\")\n",
    "    # la fonction ne fait qu'imprimer \"woof\" et \"grr\""
   ]
  },
  {
   "cell_type": "code",
   "execution_count": null,
   "id": "8ee470ba",
   "metadata": {},
   "outputs": [],
   "source": [
    "#aboyons deux fois\n",
    "aboyer()\n",
    "aboyer()"
   ]
  },
  {
   "cell_type": "markdown",
   "id": "55911170",
   "metadata": {},
   "source": [
    "Pour le reste du cours on s'intéressera aux applications mathématiques."
   ]
  },
  {
   "cell_type": "markdown",
   "id": "bf4f3568",
   "metadata": {},
   "source": [
    "### Les commandes de contrôle\n",
    "La programmation est utile pour faire des gros calculs, ou pour automatiser des processus. Deux commandes de controles sont utiles: les conditionels et les boucles. "
   ]
  },
  {
   "cell_type": "markdown",
   "id": "4d763bd1",
   "metadata": {},
   "source": [
    "#### Conditionels\n",
    "La structure va comme suit:\n",
    "<code>\n",
    "if condition_a_verifier:\n",
    "    # faire quelquechose si vrai\n",
    "else: # optionnel\n",
    "    # faire quelquechose si faux\n",
    "</code>"
   ]
  },
  {
   "cell_type": "code",
   "execution_count": null,
   "id": "d301dd83",
   "metadata": {},
   "outputs": [],
   "source": [
    "# Exemple:\n",
    "if 3 < -5:\n",
    "    print(\"3 est plus petit que -5\")\n",
    "    \n",
    "else:\n",
    "    print(\"-5 est plus petit que 3\")"
   ]
  },
  {
   "cell_type": "code",
   "execution_count": null,
   "id": "1559c455",
   "metadata": {},
   "outputs": [],
   "source": [
    "# on peut creer une fonction qui imprime le resultat de la condition_a_verifier\n",
    "\n",
    "# x est plus petit que y?\n",
    "def est_plus_petit_que(x,y):\n",
    "    print(x<y)"
   ]
  },
  {
   "cell_type": "code",
   "execution_count": null,
   "id": "78613fe8",
   "metadata": {},
   "outputs": [],
   "source": [
    "est_plus_petit_que(1,9)"
   ]
  },
  {
   "cell_type": "code",
   "execution_count": null,
   "id": "218a3079",
   "metadata": {},
   "outputs": [],
   "source": [
    "est_plus_petit_que(9,1)"
   ]
  },
  {
   "cell_type": "code",
   "execution_count": null,
   "id": "db6a7764",
   "metadata": {},
   "outputs": [],
   "source": [
    "3<7"
   ]
  },
  {
   "attachments": {
    "image.png": {
     "image/png": "[encoded data removed]"
    }
   },
   "cell_type": "markdown",
   "id": "6e8ee9d9",
   "metadata": {},
   "source": [
    "####  <font color='red'>À vous de pratiquer: </font> \n",
    "Créer un code pour évaluer la fonction suivante:\n",
    "![image.png](attachment:image.png)"
   ]
  },
  {
   "cell_type": "code",
   "execution_count": null,
   "id": "bb48954f",
   "metadata": {},
   "outputs": [],
   "source": [
    "# créer une fonction qui évalue conditionnellemnnt la valeur de x\n",
    "def f(x):\n",
    "    #Remplacez \"True\" sur la ligne suivante avec le conditionnel approprié\n",
    "    if :  \n",
    "        return x+1\n",
    "    else:\n",
    "        #retourner le bon calcul sur la ligne suivante\n",
    "        return \n",
    "    \n",
    "#Vous pouvez essayez votre fonction sur plusieurs valeurs\n",
    "print(f(-2)) #-1\n",
    "print(f(1))  #2\n",
    "print(f(6))  #-8"
   ]
  },
  {
   "cell_type": "markdown",
   "id": "3878113c",
   "metadata": {},
   "source": [
    "### Listes et boucles\n",
    "Un des éléments les plus importants de la programmation est la capacité d'organiser les données et d'automatisé des processus. Nous avons quelques commandes pour nous aider."
   ]
  },
  {
   "cell_type": "code",
   "execution_count": null,
   "id": "51e82952",
   "metadata": {},
   "outputs": [],
   "source": [
    "# on peut créer une liste manuellement\n",
    "liste = [1,3,5,12]\n",
    "print(liste)\n",
    "# [1, 3, 5, 12]\n",
    "\n",
    "# quelques fonctions permettent aussi de créer des objets itérables (que l'on transforme )\n",
    "# range(8) créé un itérateur de 0 à 8 (exclu)\n",
    "# list() transforme l'itérateur en liste qui est plus facile à visualiser\n",
    "liste = list(range(8))\n",
    "print(liste)\n",
    "# [0, 1, 2, 3, 4, 5, 6, 7]\n",
    "\n",
    "# range() peut-être utilisé différemment\n",
    "liste = list(range(16, 1, -3)) #liste de 16 à 1 exclus par bonds de -3\n",
    "print(liste)\n",
    "# [16, 13, 10, 7, 4]\n",
    "\n",
    "# on peut modifier tous les éléments d'une liste avec une fonction, par exemple:\n",
    "def f(x):\n",
    "    return x**2+1\n",
    "x = [1,2,3,4,5,6,7,8]\n",
    "y = [f(n) for n in x]\n",
    "print(y)\n",
    "#[2, 5, 10, 17, 26, 37, 50, 65]\n",
    "\n",
    "# peut combiner les x et les y\n",
    "points = list(zip(x,y))\n",
    "print(points)\n",
    "#[(1, 2), (2, 5), (3, 10), (4, 17), (5, 26), (6, 37), (7, 50), (8, 65)]"
   ]
  },
  {
   "cell_type": "code",
   "execution_count": null,
   "id": "181f524e",
   "metadata": {},
   "outputs": [],
   "source": [
    "#on peut aussi traverser les éléments d'un itérable ou d'une liste\n",
    "liste = [1, 2, 3, 4]\n",
    "for element in liste:\n",
    "    # imprimons chaque élément 1 à 1\n",
    "    nouvelle_valeur  = element**2\n",
    "    nouvelle_valeur2 = element-1\n",
    "    print(nouvelle_valeur+nouvelle_valeur2)"
   ]
  },
  {
   "cell_type": "markdown",
   "id": "66e38318",
   "metadata": {},
   "source": [
    "####  <font color='red'>À vous de pratiquer: </font> "
   ]
  },
  {
   "cell_type": "markdown",
   "id": "1dea575d-030f-4bd3-a96f-6a462f84cb4f",
   "metadata": {},
   "source": [
    "Imprimez un compte à rebours de 20 à 0 dans la cellule suivante."
   ]
  },
  {
   "cell_type": "code",
   "execution_count": null,
   "id": "5a0b1ad3-097f-4e9a-9390-64912319b023",
   "metadata": {},
   "outputs": [],
   "source": []
  },
  {
   "cell_type": "markdown",
   "id": "342daa84-5ad3-426f-8875-2c19c23fa245",
   "metadata": {},
   "source": [
    "Imprimez la séquence de valeurs $\\{1, 0.1, 0.01, 0.001, ..., 1\\times10^-6\\}$ dans la cellule suivante."
   ]
  },
  {
   "cell_type": "code",
   "execution_count": null,
   "id": "6c6beffe-7e6d-43cf-a5db-6537880d633b",
   "metadata": {},
   "outputs": [],
   "source": [
    "for i in range(7):\n",
    "    # À compléter"
   ]
  },
  {
   "cell_type": "markdown",
   "id": "c778eb30-76f3-4cd6-bea2-f13ab1712977",
   "metadata": {},
   "source": [
    "### Application aux limites"
   ]
  },
  {
   "cell_type": "markdown",
   "id": "94e7f774-94b8-4878-b9d9-9c0e975b304e",
   "metadata": {},
   "source": [
    "Nous pouvons maintenant utiliser tout ce que nous avons appris pour visualiser des limites numériquement. \n",
    "\n",
    "Prenons d'abord la fonction $f(x)=\\frac{x-3}{\\sqrt{x+1}-2}$ et évaluons la limite $\\lim\\limits_{x \\to 1^+}{f(x)}$ numériquement."
   ]
  },
  {
   "cell_type": "code",
   "execution_count": null,
   "id": "1036c04a-d3f1-4fc2-acce-6d029da1b5a5",
   "metadata": {},
   "outputs": [],
   "source": [
    "def f(x):\n",
    "    # Complétez la ligne suivante en faisant attention de bien parenthèser.\n",
    "    return\n",
    "\n",
    "for i in range(7):\n",
    "    x = 0  # MODIFIEZ CETTE VALEUR POUR APPROCHER 1 PAR LA DROITE AU FUR ET À MESURE QUE i DIMINUE\n",
    "    y= f(x)\n",
    "    print(f\"Lorsque x = {x:.7f}, y = {y:.7f}\")"
   ]
  },
  {
   "cell_type": "markdown",
   "id": "6ffdd8aa-9a34-4b83-b500-c09f17131507",
   "metadata": {},
   "source": [
    "####  <font color='red'>Conjecturez </font>\n",
    "$\\lim\\limits_{x \\to 1^+}{f(x)}= ...$"
   ]
  }
 ],
 "metadata": {
  "kernelspec": {
   "display_name": "Python 3 (ipykernel)",
   "language": "python",
   "name": "python3"
  },
  "language_info": {
   "codemirror_mode": {
    "name": "ipython",
    "version": 3
   },
   "file_extension": ".py",
   "mimetype": "text/x-python",
   "name": "python",
   "nbconvert_exporter": "python",
   "pygments_lexer": "ipython3",
   "version": "3.11.7"
  }
 },
 "nbformat": 4,
 "nbformat_minor": 5
}
