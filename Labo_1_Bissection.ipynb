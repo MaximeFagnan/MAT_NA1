{
 "cells": [
  {
   "cell_type": "markdown",
   "metadata": {
    "slideshow": {
     "slide_type": "slide"
    }
   },
   "source": [
    "# Méthode de la bissection <font color = \"green\"> [5 points au total] </font>\n",
    "Noms des coéquipiers :\n",
    "\n",
    "<font color =\"red\" >NOM, PRÉNOM</font> <font color = \"green\"> #MODIFIER</font>\n",
    "\n",
    "<font color =\"red\" >NOM, PRÉNOM</font> <font color = \"green\"> #MODIFIER </font>\n",
    "\n",
    "Un troisième étudiant est accepté, mais je serai plus demandant dans ma correction:\n",
    "\n",
    "* <font color =\"red\" >NOM, PRÉNOM</font> <font color = \"green\"> #MODIFIER </font>"
   ]
  },
  {
   "cell_type": "markdown",
   "metadata": {
    "slideshow": {
     "slide_type": "subslide"
    }
   },
   "source": [
    "**Dans ce laboratoire, vous devez réécrire par-dessus les quelques lignes avec** <font color = \"green\"> #MODIFIER</font> **avec le code approprié.**\n",
    "    \n",
    "Le but de cette méthode est la résolution *numérique* (non exacte) d'une équation de la forme $f(x) = 0$, où $f$ est une fonction continue donnée. Autrement dit, on veut faire une approximation numérique des zéros d'une fonction continue.\n",
    "\n",
    "**Vous devez faire rouler chaque cellule de code dans l'ordre!!!** (sinon il y a des problèmes de pré-requis)."
   ]
  },
  {
   "cell_type": "markdown",
   "metadata": {
    "slideshow": {
     "slide_type": "slide"
    }
   },
   "source": [
    "## Théorie"
   ]
  },
  {
   "cell_type": "markdown",
   "metadata": {
    "slideshow": {
     "slide_type": "fragment"
    }
   },
   "source": [
    "*Aucun travail requis, utilisez vos deux oreilles seulement!*"
   ]
  },
  {
   "cell_type": "markdown",
   "metadata": {
    "slideshow": {
     "slide_type": "subslide"
    }
   },
   "source": [
    "#### Importation de librairies et outils nécessaires\n",
    "\n",
    "Voici les librairies que nous utiliserons."
   ]
  },
  {
   "cell_type": "code",
   "execution_count": null,
   "metadata": {
    "slideshow": {
     "slide_type": "fragment"
    }
   },
   "outputs": [],
   "source": [
    "import numpy as np\n",
    "import matplotlib.pyplot as plt"
   ]
  },
  {
   "cell_type": "markdown",
   "metadata": {
    "slideshow": {
     "slide_type": "subslide"
    }
   },
   "source": [
    "Fonction utilitaire pour obtenir la disposition habituelle des axes sur un graphique (intersection au point origine). Ignorer les détails de ce fragment de code."
   ]
  },
  {
   "cell_type": "code",
   "execution_count": null,
   "metadata": {
    "slideshow": {
     "slide_type": "fragment"
    }
   },
   "outputs": [],
   "source": [
    "def disposer_axes():\n",
    "    ax = plt.gca()\n",
    "    ax.spines['right'].set_visible(False)\n",
    "    ax.spines['top'].set_visible(False)\n",
    "    ax.spines['bottom'].set_position(('data',0))\n",
    "    ax.spines['left'].set_position(('data',0))"
   ]
  },
  {
   "cell_type": "markdown",
   "metadata": {
    "slideshow": {
     "slide_type": "subslide"
    }
   },
   "source": [
    "Fonction $f(x)$ définie par le membre de gauche de l'équation $f(x) = 0$."
   ]
  },
  {
   "cell_type": "code",
   "execution_count": null,
   "metadata": {
    "slideshow": {
     "slide_type": "fragment"
    }
   },
   "outputs": [],
   "source": [
    "def f(x): # La fonction étudiée\n",
    "    return x**3 - 5*x + 1 "
   ]
  },
  {
   "cell_type": "markdown",
   "metadata": {
    "slideshow": {
     "slide_type": "fragment"
    }
   },
   "source": [
    "Bornes de l'intervalle de $x$ pour le graphique."
   ]
  },
  {
   "cell_type": "code",
   "execution_count": null,
   "metadata": {
    "slideshow": {
     "slide_type": "fragment"
    }
   },
   "outputs": [],
   "source": [
    "min_x = -3\n",
    "max_x = 3"
   ]
  },
  {
   "cell_type": "markdown",
   "metadata": {
    "slideshow": {
     "slide_type": "subslide"
    }
   },
   "source": [
    "Tracé du graphique de $f$."
   ]
  },
  {
   "cell_type": "code",
   "execution_count": null,
   "metadata": {
    "scrolled": true,
    "slideshow": {
     "slide_type": "fragment"
    }
   },
   "outputs": [],
   "source": [
    "valeurs_x = np.linspace(min_x, max_x, 7)\n",
    "\n",
    "for x in valeurs_x:\n",
    "    print(f\"x = {x:.2f},     f(x)={f(x):.2f}\")\n",
    "    \n",
    "# plt.plot(valeurs_x, f(valeurs_x))\n",
    "# disposer_axes()\n",
    "\n"
   ]
  },
  {
   "cell_type": "markdown",
   "metadata": {
    "slideshow": {
     "slide_type": "slide"
    }
   },
   "source": [
    "#### Outils mathématiques nécessaires\n",
    "\n",
    "À partir du graphique, définir un encadrement initial $[a_0, b_0]$ tel que $f(a_0)$ et $f(b_0)$ sont de signes opposés, <font color=\"blue\"> ce qui équivaut à la condition $f(a_0)f(b_0) < 0$ </font>."
   ]
  },
  {
   "cell_type": "code",
   "execution_count": null,
   "metadata": {
    "slideshow": {
     "slide_type": "fragment"
    }
   },
   "outputs": [],
   "source": [
    "a0 = 0\n",
    "b0 = 2"
   ]
  },
  {
   "cell_type": "markdown",
   "metadata": {
    "slideshow": {
     "slide_type": "subslide"
    }
   },
   "source": [
    "Test sur les signes de $f(a_0)$ et de $f(b_0)$, comme exemple de l'instruction *if, else*. <font color=\"blue\"> Ce genre de vérification vous sera utile plus tard!</font>\n",
    "\n",
    "Rappel: <code>a0=0</code>, <code>b0=2</code> et $f(x)=x^3-5x+1$"
   ]
  },
  {
   "cell_type": "code",
   "execution_count": null,
   "metadata": {
    "slideshow": {
     "slide_type": "fragment"
    }
   },
   "outputs": [],
   "source": [
    "if f(a0) >= 0:\n",
    "    print(f'f({a0}) est positif ou nul.')\n",
    "else:\n",
    "    print(f'f({a0}) est négatif.')\n",
    "    \n",
    "if f(b0) >= 0:\n",
    "    print(f'f({b0}) est positif ou nul.')\n",
    "else:\n",
    "    print(f'f({b0}) est négatif.')\n",
    "    \n",
    "if f(a0)*f(b0)<0 :\n",
    "    print(f'f({a0}) et f({b0}) sont de signes opposés.')"
   ]
  },
  {
   "cell_type": "markdown",
   "metadata": {
    "slideshow": {
     "slide_type": "slide"
    }
   },
   "source": [
    "## Votre travail commence\n",
    "\n",
    "Calcul numérique d'un zéro de la fonction $f$ par la méthode de la bissection (<font color=\"green\">#COMPLÉTER</font>, en modifiant les 4 lignes indiquées)."
   ]
  },
  {
   "cell_type": "code",
   "execution_count": null,
   "metadata": {
    "scrolled": false,
    "slideshow": {
     "slide_type": "fragment"
    }
   },
   "outputs": [],
   "source": [
    "# initialisation\n",
    "a0 = 0               # borne de gauche initiale\n",
    "b0 = 2               # borne de droite initiale\n",
    "a = a0               # borne de gauche de l'encadrement courant\n",
    "b = b0               # borne de droite de l'encadrement courant\n",
    "\n",
    "# *** ALGORITHME DE LA BISSECTION ***\n",
    "\n",
    "# afficher l'encadrement initial et sa précision (longueur de l'intervalle)\n",
    "print(f'Initialisation:   a = {a:.10f}   b = {b:.10f}       b - a = {b - a:.1e}')\n",
    "\n",
    "#20 fois, ajustement de la borne a ou de la borne b.\n",
    "for iteration in range(1,21):  # faire 20 itérations (étapes) pour tester\n",
    "\n",
    "    # point milieu m de l'intervalle [a, b]\n",
    "    m =        # MODIFIER\n",
    "    \n",
    "    # si f(a) et f(m) sont de signes opposés: (voir les deux morceaux de texte en bleu plus haut)\n",
    "    if  _______ <0 : # MODIFIER\n",
    "        # nouvelle borne de droite;\n",
    "        b =    # MODIFIER\n",
    "    \n",
    "    # sinon\n",
    "    else:  \n",
    "        # nouvelle borne de gauche\n",
    "        a =    # MODIFIER\n",
    "    \n",
    "    # afficher l'encadrement et sa précision\n",
    "    print(f'{iteration:3}.   a = {a:.10f}   b = {b:.10f}       b - a = {b - a:.1e}')\n",
    "    \n",
    "# afficher la solution (borne de gauche du dernier encadrement)\n",
    "print()  # saut de ligne\n",
    "print(f'À {b - a:.1e} près, le zéro est x = {a:.10f}.')\n",
    "print(f'Valeur de f : {f(a):.2e}.')\n",
    "\n",
    "#Visualtisation de la fonction et de la racine\n",
    "valeurs_x = np.linspace(a0, b0, 101)\n",
    "plt.plot(valeurs_x, f(valeurs_x))\n",
    "plt.plot(a, f(a), 'ro')\n",
    "disposer_axes()"
   ]
  },
  {
   "cell_type": "markdown",
   "metadata": {
    "slideshow": {
     "slide_type": "slide"
    }
   },
   "source": [
    "<font color = \"green\"> [1 point] </font> pour pour avoir réparé et exécuté la cellule précédente.\n",
    "\n",
    "# Résultats\n",
    "\n",
    "<font color=\"green\">Vous pouvez vous inspirer (et utiliser) de tout ce qu'il y a dans la section théorie!</font>\n",
    "\n",
    "### Instructions\n",
    "Je vous demande d'approximer numériquement les trois racines de *f*, où $f(x)=x^3-5x+1$.\n",
    "\n",
    "Vous devez <font color=\"green\">#MODIFIER</font> les valeurs initiales de a0 et b0 dans le code ci-haut pour trouver les deux autres racines.\n",
    "\n"
   ]
  },
  {
   "cell_type": "markdown",
   "metadata": {
    "slideshow": {
     "slide_type": "subslide"
    }
   },
   "source": [
    "### Solutions\n",
    "\n",
    "x= <font color = \"green\"> #MODIFIER </font>\n",
    "\n",
    "x= <font color = \"green\"> #MODIFIER </font>\n",
    "\n",
    "x= <font color = \"green\"> #MODIFIER </font>\n",
    "\n",
    "\n",
    "<font color = \"green\"> [1 point] </font> pour les solutions."
   ]
  },
  {
   "cell_type": "markdown",
   "metadata": {
    "slideshow": {
     "slide_type": "slide"
    }
   },
   "source": [
    "# Une fonction python qui approxime numériquement les racines de f(x)\n",
    "Vous pouvez maintenant créer une fonction qui permet de trouver la racine de n'importe quelle fonction continue avec la méthode de bissection.\n",
    "\n",
    "<font color=\"green\"> Vous copierez le code précédent dans une fonction qui pourra être appelé facilement. Vous devez aussi modifiez la fin du code pour ne plus imprimer à chaque itération ET ne plus afficher le graphique. </font>"
   ]
  },
  {
   "cell_type": "code",
   "execution_count": null,
   "metadata": {
    "slideshow": {
     "slide_type": "subslide"
    }
   },
   "outputs": [],
   "source": [
    "# voici la fonction que vous allez créer.\n",
    "def approximateur_de_racine(a, b, f):\n",
    "    a0=a\n",
    "    b0=b\n",
    "    \n",
    "    # copiez ici tout le code sous *** ALGORITHME DE LA BISSECTION *** et ajustez l'indentation\n",
    "    # (avec une sélection de plusieurs lignes vous pouvez pesez sur \"tab\" pour tous les décaler vers la droite)\n",
    "    \n",
    "    \n",
    "    \n",
    "    \n",
    "    \n",
    "# N'oubliez pas de supprimez la ligne qui imprime dans la boucle \"for\"\n",
    "# N'oubliez pas de supprimez les 5 dernières lignes qui servent à afficher le graphique."
   ]
  },
  {
   "cell_type": "markdown",
   "metadata": {
    "slideshow": {
     "slide_type": "subslide"
    }
   },
   "source": [
    "Vous pouvez maintenant appeler <code>approximateur_de_racine()</code> sur n'importe quel intervalle et n'importe quelle fonction facilement!\n",
    "\n",
    "Essayez le vous-même en exécutant les lignes suivantes:"
   ]
  },
  {
   "cell_type": "code",
   "execution_count": null,
   "metadata": {
    "slideshow": {
     "slide_type": "subslide"
    }
   },
   "outputs": [],
   "source": [
    "#Exemple 1: une racine de cos(x) sur l'intervalle [0,4*pi/3]\n",
    "approximateur_de_racine(0, 4*np.pi/3, np.cos)\n",
    "\n",
    "# [1 point] si l'exécution de cette cellule trouve la  "
   ]
  },
  {
   "cell_type": "code",
   "execution_count": null,
   "metadata": {
    "slideshow": {
     "slide_type": "subslide"
    }
   },
   "outputs": [],
   "source": [
    "#Exemple 2: une racine de e^(x)-4x^(2) sur l'intervalle [-2,5]\n",
    "def f(x):\n",
    "    return np.exp(x)-4*x**2\n",
    "\n",
    "approximateur_de_racine(-2, 5, f)\n",
    "\n",
    "#Roulez cette cellule  [1 point]"
   ]
  },
  {
   "cell_type": "code",
   "execution_count": null,
   "metadata": {
    "slideshow": {
     "slide_type": "subslide"
    }
   },
   "outputs": [],
   "source": [
    "# Exemple 3 Inventez une fonction avec une racine difficile à trouver algébriquement\n",
    "def f(x):\n",
    "    return #MODIFIER (créer une fonction de votre choix)\n",
    "\n",
    "approximateur_de_racine() #MODIFIER (appelez la fonction avec les arguments appropriés)\n",
    "\n",
    "#Roulez cette cellule  [1 point]"
   ]
  }
 ],
 "metadata": {
  "celltoolbar": "Slideshow",
  "kernelspec": {
   "display_name": "Python 3 (ipykernel)",
   "language": "python",
   "name": "python3"
  },
  "language_info": {
   "codemirror_mode": {
    "name": "ipython",
    "version": 3
   },
   "file_extension": ".py",
   "mimetype": "text/x-python",
   "name": "python",
   "nbconvert_exporter": "python",
   "pygments_lexer": "ipython3",
   "version": "3.11.7"
  }
 },
 "nbformat": 4,
 "nbformat_minor": 4
}
