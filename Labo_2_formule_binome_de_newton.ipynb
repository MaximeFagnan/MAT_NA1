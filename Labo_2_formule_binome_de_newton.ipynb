{
 "cells": [
  {
   "cell_type": "markdown",
   "metadata": {
    "slideshow": {
     "slide_type": "slide"
    }
   },
   "source": [
    "# Formule du binôme de Newton<font color = \"green\"> [11 points au total] </font>\n",
    "Noms des coéquipiers :\n",
    "\n",
    "<font color =\"red\" >NOM, PRÉNOM</font> <font color = \"green\"> #MODIFIER</font>\n",
    "\n",
    "<font color =\"red\" >NOM, PRÉNOM</font> <font color = \"green\"> #MODIFIER </font>\n",
    "\n",
    "Un troisième étudiant est accepté, mais je serai plus demandant dans ma correction:\n",
    "\n",
    "* <font color =\"red\" >NOM, PRÉNOM</font> <font color = \"green\"> #MODIFIER </font>"
   ]
  },
  {
   "cell_type": "markdown",
   "metadata": {
    "slideshow": {
     "slide_type": "subslide"
    }
   },
   "source": [
    "Dans ce laboratoire, vous devez réécrire par-dessus les quelques lignes avec <font color = \"green\"> #MODIFIER</font> **avec le code approprié**. Il y a aussi 5 questions théoriques à la fin.\n",
    "    \n",
    "**Vous devez faire rouler chaque cellule de code dans l'ordre!!!** (sinon il y a des problèmes de pré-requis)."
   ]
  },
  {
   "cell_type": "markdown",
   "metadata": {},
   "source": [
    "## Le triangle de Pascal\n",
    "\n",
    "### Définitions\n",
    "\n",
    "Un triangle de Pascal de grandeur $n$ est un tableau de $n$ lignes avec les propriétés suivantes.\n",
    "\n",
    "* La $i^e$ ligne contient $i$ termes\n",
    "* Pour calculer le $j^e$ terme de chaque ligne\n",
    "    * Le premier et le dernier terme de chaque ligne est 1\n",
    "    * Pour $2 \\leq j \\leq i-1$, $\\;\\;$ le $j^e$ terme de chaque ligne est obtenue en additionant le $j-1^e$ et le $j^e$ terme de la ligne précédente\n",
    "\n",
    "Je donne deux exemples de triangles de Pascal de grandeurs 3 et 4 où chaque ligne est une liste de nombres.\n",
    "\n",
    "<code>triangle_pascal_3 = <br>\n",
    "[1]<br>\n",
    "[1,1]<br>\n",
    "[1,2,1]\n",
    "</code>\n",
    "\n",
    "<code>\n",
    "triangle_pascal_4 =<br>\n",
    "[1]<br>\n",
    "[1,1]<br>\n",
    "[1,2,1]<br>\n",
    "[1,3,3,1]\n",
    "</code>\n",
    "\n",
    "#### Imprimer un triangle de Pascal\n",
    "\n",
    "J'ai encodé les triangles de Pascal de hauteurs 3 et 4 avec des liste imbriquées, c'est à dire une liste qui contient des listes. Par exemple:\n",
    "* Le triangle de Pascal de hauteur 3 est représenté par une liste <code>[     ]</code> qui contient:\n",
    "    * Une liste qui représente la ligne 1: <code>[1]</code>\n",
    "    * Une liste qui représente la ligne 2: <code>[1,1]</code>\n",
    "    * Une liste qui représente la ligne 3: <code>[1,2,1]</code>"
   ]
  },
  {
   "cell_type": "code",
   "execution_count": 1,
   "metadata": {},
   "outputs": [
    {
     "name": "stdout",
     "output_type": "stream",
     "text": [
      "[1, 2, 3]\n",
      "gateau au chocolat\n",
      "17\n"
     ]
    }
   ],
   "source": [
    "#  Tutoriel pour imprimer les éléments d'une liste\n",
    "liste = [[1,2,3],\"gateau au chocolat\",17]\n",
    "for element in liste:\n",
    "    print(element)"
   ]
  },
  {
   "cell_type": "markdown",
   "metadata": {},
   "source": [
    "À vous de créer une fonction qui imprime chaque ligne d'un triangle de pascal.\n",
    "\n",
    "<font color = \"green\">[1 point] </font>"
   ]
  },
  {
   "cell_type": "code",
   "execution_count": null,
   "metadata": {},
   "outputs": [],
   "source": [
    "# Voici les mêmes triangles que plus haut, encodés en listes imbriquées \n",
    "\n",
    "triangle_pascal_3 = [[1],[1,1],[1,2,1]]\n",
    "\n",
    "triangle_pascal_4 = [[1],[1,1],[1,2,1],[1,3,3,1]]\n",
    "\n",
    "# Créez une fonction qui imprime chaque ligne d'un triangle de pascal\n",
    "\n",
    "def impression_triangle(triangle_pascal):\n",
    "    # créer une boucle qui imprime chaque ligne\n",
    "    # MODIFIEZ: ajoutez les deux lignes nécessaires à cette fonction [1 point]\n",
    "    #\n",
    "\n",
    "\n",
    "\n",
    "# Vérification: On appel votre fonction pour voir si elle imprime bien les triangles\n",
    "impression_triangle(triangle_pascal_3)\n",
    "# [1]\n",
    "# [1,1]\n",
    "# [1,2,1]\n",
    "\n",
    "print() # Impression d'un espace vide pour séparer les triangles\n",
    "\n",
    "impression_triangle(triangle_pascal_4)\n",
    "# [1]\n",
    "# [1,1]\n",
    "# [1,2,1]\n",
    "# [1,3,3,1]"
   ]
  },
  {
   "cell_type": "markdown",
   "metadata": {},
   "source": [
    "### Trouver la prochaine ligne d'un triangle de Pascal\n",
    "\n",
    "#### Échauffement\n",
    "\n",
    "Vous devez, à la main, calculer le triangle de Pascal de hauteur 5, l'écrire avec la notation de tableau appropriée et l'imprimer dans la cellule suivante. \n",
    "\n",
    "<font color = \"green\">[1 point] </font>"
   ]
  },
  {
   "cell_type": "code",
   "execution_count": null,
   "metadata": {},
   "outputs": [],
   "source": [
    "# MODIFIER: Créez une liste imbriqué pour le triangle de hauteur 5 à la ligne suivante\n",
    "triangle_pascal_5 =\n",
    "\n",
    "# MODIFIER: Imprimez le triangle de Pascal de hauteur 5 avec la fonction que vous avez créée précédemment."
   ]
  },
  {
   "cell_type": "markdown",
   "metadata": {},
   "source": [
    "#### Trouver la prochaine ligne d'un triangle de Pascal\n",
    "\n",
    "Vous allez créer du code qui, à partir de la $i^e$ ligne d'un triangle de pascal, est capable de trouvé la $i+1^e$ ligne.\n",
    "\n",
    "Voici ce que la fonction <code>prochaine_ligne</code> devrait retourner:\n",
    "\n",
    "* <code>prochaine_ligne([1,2,1])</code>\n",
    "    * <code>[1,3,3,1]</code>\n",
    "\n",
    "\n",
    "\n",
    "* <code>prochaine_ligne([1,6,15,20,15,6,1])</code>\n",
    "    * <code>[1,7,21,35,35,21,7,1]</code>"
   ]
  },
  {
   "cell_type": "code",
   "execution_count": null,
   "metadata": {},
   "outputs": [],
   "source": [
    "# un exemple pour montrer comment ajouter des éléments à une liste\n",
    "ligne_3 = [1]\n",
    "ligne_3.append(2)\n",
    "ligne_3.append(1)\n",
    "\n",
    "print(ligne_3)"
   ]
  },
  {
   "cell_type": "code",
   "execution_count": null,
   "metadata": {},
   "outputs": [],
   "source": [
    "# un exemple pour montrer comment accéder aux éléments d'une liste\n",
    "ligne_2 = [1,1]\n",
    "\n",
    "ligne_3 = [1]\n",
    "ligne_3.append(ligne_2[0] + ligne_2[1]) #accès aux éléments 0 et 1 de ligne_2\n",
    "ligne_3.append(1)\n",
    "\n",
    "print(ligne_3)"
   ]
  },
  {
   "cell_type": "markdown",
   "metadata": {},
   "source": [
    "Écrivez le code de <code>prochaine_ligne</code>\n",
    "\n",
    "<font color = \"green\">[2 points] </font>"
   ]
  },
  {
   "cell_type": "code",
   "execution_count": null,
   "metadata": {},
   "outputs": [],
   "source": [
    "def prochaine_ligne(ligne_i):\n",
    "    i = len(ligne_i)\n",
    "    # ajout du 1 initial à ligne_suivante\n",
    "    ligne_suivante = [1]\n",
    "    # MODIFIER: Dans une boucle de j=1 à j=i-1, calculez et rajouter les valeurs subséquents à ligne_suivante\n",
    "\n",
    "    # ajout du 1 final à ligne_suivante\n",
    "    ligne_suivante.append(1)\n",
    "    \n",
    "    return ligne_suivante\n",
    "    \n",
    "\n",
    "# vérification du code\n",
    "print(prochaine_ligne([1,2,1]))\n",
    "print(prochaine_ligne([1,6,15,20,15,6,1]))"
   ]
  },
  {
   "cell_type": "markdown",
   "metadata": {},
   "source": [
    "#### Construire un triangle de Pascal\n",
    "\n",
    "Dans cette section, on va écrire du code pour construire un triangle de Pascal au complet!\n",
    "\n",
    "Remarquez d'abord que notre code fonctionne déjà très bien:"
   ]
  },
  {
   "cell_type": "code",
   "execution_count": null,
   "metadata": {},
   "outputs": [],
   "source": [
    "# Notre travail en oeuvre\n",
    "print(\"Triangle de pascal de hauteur 4:\\n\")\n",
    "ligne_1 = [1]\n",
    "ligne_2 = [1,1]\n",
    "ligne_3 = prochaine_ligne(ligne_2)\n",
    "ligne_4 = prochaine_ligne(ligne_3)\n",
    "\n",
    "triangle_pascal_4 = [ligne_1, ligne_2, ligne_3, ligne_4]\n",
    "\n",
    "impression_triangle(triangle_pascal_4)"
   ]
  },
  {
   "cell_type": "code",
   "execution_count": null,
   "metadata": {},
   "outputs": [],
   "source": [
    "# Notre travail en oeuvre, mais un peu plus obscur!\n",
    "print(\"Triangle de pascal de hauteur 6:\\n\")\n",
    "print([1])\n",
    "print([1,1])\n",
    "ligne = [1,1]\n",
    "for i in range(4):\n",
    "    ligne = prochaine_ligne(ligne)"
   ]
  },
  {
   "cell_type": "markdown",
   "metadata": {},
   "source": [
    "À vous de créer une fonction qui va construire une liste imbriqué pour un triangle de pascal de hauteur $n\\geq2$.\n",
    "\n",
    "Voici ce que la fonction <code>triangle_pascal(n)</code> devrait retourner:\n",
    "\n",
    "* <code>triangle_pascal(3)</code>\n",
    "    * <code>[[1],[1,1],[1,2,1]]</code>\n",
    "* <code>triangle_pascal(4)</code>\n",
    "    * <code>[[1],[1,1],[1,2,1],[1,3,3,1]]</code>\n",
    "\n",
    "<font color = \"green\">[1 point] </font>\n"
   ]
  },
  {
   "cell_type": "code",
   "execution_count": null,
   "metadata": {},
   "outputs": [],
   "source": [
    "def triangle_pascal(n):\n",
    "    # Les deux premières lignes sont triviales\n",
    "    triangle = [[1],[1,1]]\n",
    "    ligne = [1,1]\n",
    "    # MODIFIER: Dans une boucle, ajoutez les n-2 lignes manquantes au triangle\n",
    "\n",
    "    return triangle\n",
    "\n",
    "\n",
    "# Vérification de notre code\n",
    "impression_triangle(triangle_pascal(7))"
   ]
  },
  {
   "cell_type": "markdown",
   "metadata": {},
   "source": [
    "## Ok, mais c'est quoi le rapport avec le calcul différentiel monsieur?"
   ]
  },
  {
   "cell_type": "markdown",
   "metadata": {},
   "source": [
    "Et bien si on veut calculer la dérivée de $f(x)=x^n$, on doit calculer $\\lim\\limits_{h\\to0}\\frac{f(x+h)-f(x)}{h}$.\n",
    "\n",
    "Ce n'est pas si pire de développer $f(x+h)=(x+h)^n$ pour des petites valeurs de $n$, mais on se fatigue rapidement pour des grandes valeurs de $n$! On va voir qu'il y a un truc."
   ]
  },
  {
   "cell_type": "markdown",
   "metadata": {},
   "source": [
    "#### Importation de librairies et outils nécessaires\n",
    "\n",
    "Voici les librairies que nous utiliserons."
   ]
  },
  {
   "cell_type": "code",
   "execution_count": 3,
   "metadata": {},
   "outputs": [],
   "source": [
    "from sympy import symbols, expand, latex"
   ]
  },
  {
   "cell_type": "markdown",
   "metadata": {},
   "source": [
    "La cellule précédente à importé la librairie de calcul symbolique de Python. Un exemple de calcul symbolique bien utile se retrouve dans la cellule suivante. "
   ]
  },
  {
   "cell_type": "code",
   "execution_count": 5,
   "metadata": {},
   "outputs": [
    {
     "data": {
      "text/latex": [
       "$\\displaystyle h^{2} + 2 h x + x^{2}$"
      ],
      "text/plain": [
       "h**2 + 2*h*x + x**2"
      ]
     },
     "execution_count": 5,
     "metadata": {},
     "output_type": "execute_result"
    }
   ],
   "source": [
    "x = symbols(\"x\")\n",
    "h = symbols(\"h\")\n",
    "\n",
    "expand((x+h)*(x+h))"
   ]
  },
  {
   "cell_type": "markdown",
   "metadata": {},
   "source": [
    "L'impression est un peu moche, mais ça peut faire la job..."
   ]
  },
  {
   "cell_type": "code",
   "execution_count": 6,
   "metadata": {},
   "outputs": [
    {
     "name": "stdout",
     "output_type": "stream",
     "text": [
      "h**2 + 2*h*x + x**2\n"
     ]
    }
   ],
   "source": [
    "print(expand((x+h)**2))"
   ]
  },
  {
   "cell_type": "markdown",
   "metadata": {},
   "source": [
    "---\n",
    "*Si vous voulez <font color = \"green\">(optionnel)</font>, vous  pouvez aussi utiliser la fonction latex de SymPy et d'autres fonctions de Ipython pour imprimer des belles mathématiques dans votre prochaine cellule de code qui vaut des points.*"
   ]
  },
  {
   "cell_type": "code",
   "execution_count": 7,
   "metadata": {},
   "outputs": [
    {
     "data": {
      "text/latex": [
       "$\\displaystyle h^{2} + 2 h x + x^{2}$"
      ],
      "text/plain": [
       "<IPython.core.display.Math object>"
      ]
     },
     "metadata": {},
     "output_type": "display_data"
    }
   ],
   "source": [
    "from IPython.display import display, Math\n",
    "\n",
    "display(Math(latex(expand((x+h)**2))))"
   ]
  },
  {
   "cell_type": "markdown",
   "metadata": {},
   "source": [
    "---\n",
    "Écrivez du code dans la cellule suivante qui imprime le développement de $(x+h)^n$ pour $n\\in\\mathbb{N}^*_{\\leq7}$ .\n",
    "\n",
    "<font color = \"green\">[1 point] </font>"
   ]
  },
  {
   "cell_type": "code",
   "execution_count": null,
   "metadata": {},
   "outputs": [],
   "source": [
    "# MODIFIER: Imprimer le développement de (x+h)^n  pour 1 <= n <= 7"
   ]
  },
  {
   "cell_type": "markdown",
   "metadata": {},
   "source": [
    "Je crois que vous avez remarquer la même chose que moi. Les coefficients sont ceux du triangle de Pascal!!! POURQUOI???\n",
    "\n",
    "On remarque que *(faites roulez la cellule pour voir des belles équations en couleurs)*:"
   ]
  },
  {
   "cell_type": "code",
   "execution_count": 8,
   "metadata": {},
   "outputs": [
    {
     "data": {
      "text/latex": [
       "$\\displaystyle (x+h)^n = (x+h)(x+h)^{n-1}$"
      ],
      "text/plain": [
       "<IPython.core.display.Math object>"
      ]
     },
     "metadata": {},
     "output_type": "display_data"
    },
    {
     "data": {
      "text/latex": [
       "$\\displaystyle \\quad \\quad \\quad \\quad = \\textcolor{red}{x(x+h)^{n-1}} + \\textcolor{violet}{h(x+h)^{n-1}}$"
      ],
      "text/plain": [
       "<IPython.core.display.Math object>"
      ]
     },
     "metadata": {},
     "output_type": "display_data"
    }
   ],
   "source": [
    "display(Math(r\"(x+h)^n = (x+h)(x+h)^{n-1}\"))\n",
    "display(Math(r\"\\quad \\quad \\quad \\quad = \\textcolor{red}{x(x+h)^{n-1}} + \\textcolor{violet}{h(x+h)^{n-1}}\"))"
   ]
  },
  {
   "cell_type": "markdown",
   "metadata": {},
   "source": [
    "Alors si nous avons le développement du binôme à la puissance 4:\n",
    "$$\n",
    "(x+h)^4 = x^4 + 4x^3h + 6x^2h^2 + 4xh^3 + h^4\n",
    "$$\n",
    "\n",
    "Nous pouvons pouvons calculer le développement du binôme à la puissance 5 *(faites roulez la cellule pour voir des belles équations en couleurs)*:"
   ]
  },
  {
   "cell_type": "code",
   "execution_count": 9,
   "metadata": {},
   "outputs": [
    {
     "data": {
      "text/latex": [
       "$\\displaystyle (x+h)^5 = (x+h)(x+h)^{4}$"
      ],
      "text/plain": [
       "<IPython.core.display.Math object>"
      ]
     },
     "metadata": {},
     "output_type": "display_data"
    },
    {
     "data": {
      "text/latex": [
       "$\\displaystyle \\quad \\quad \\quad \\quad = \\textcolor{red}{x(x+h)^{4}} + \\textcolor{violet}{h(x+h)^{4}}$"
      ],
      "text/plain": [
       "<IPython.core.display.Math object>"
      ]
     },
     "metadata": {},
     "output_type": "display_data"
    },
    {
     "data": {
      "text/latex": [
       "$\\displaystyle \\quad \\quad \\quad \\quad = \\textcolor{red}{x\\left(x^4 + 4x^3h + 6x^2h^2 + 4xh^3 + h^4\\right)} + \\textcolor{violet}{h\\left(x^4 + 4x^3h + 6x^2h^2 + 4xh^3 + h^4\\right)}$"
      ],
      "text/plain": [
       "<IPython.core.display.Math object>"
      ]
     },
     "metadata": {},
     "output_type": "display_data"
    },
    {
     "data": {
      "text/latex": [
       "$\\displaystyle \\quad \\quad \\quad \\quad = \\textcolor{red}{x^5 + 4x^4h + 6x^3h^2 + 4x^2h^3 + xh^4} + \\textcolor{violet}{hx^4 + 4hx^3 + 6hx^2h + 4h^2x + h^5}$"
      ],
      "text/plain": [
       "<IPython.core.display.Math object>"
      ]
     },
     "metadata": {},
     "output_type": "display_data"
    },
    {
     "data": {
      "text/latex": [
       "$\\displaystyle \\quad \\quad \\quad \\quad = \\textcolor{red}{1}x^5 + (\\textcolor{red}{4}+\\textcolor{violet}{1})x^4h + (\\textcolor{red}{6}+\\textcolor{violet}{4})x^3h^2 + (\\textcolor{red}{4}+\\textcolor{violet}{6})x^2h^3 + (\\textcolor{red}{1}+\\textcolor{violet}{4})xh^4 + \\textcolor{violet}{1} h^5$"
      ],
      "text/plain": [
       "<IPython.core.display.Math object>"
      ]
     },
     "metadata": {},
     "output_type": "display_data"
    },
    {
     "data": {
      "text/latex": [
       "$\\displaystyle \\quad \\quad \\quad \\quad = x^5 + 5x^4h + 10x^3h^2 + 10x^2h^3 + 5xh^4 + h^5$"
      ],
      "text/plain": [
       "<IPython.core.display.Math object>"
      ]
     },
     "metadata": {},
     "output_type": "display_data"
    }
   ],
   "source": [
    "display(Math(r\"(x+h)^5 = (x+h)(x+h)^{4}\"))\n",
    "display(Math(r\"\\quad \\quad \\quad \\quad = \\textcolor{red}{x(x+h)^{4}} + \\textcolor{violet}{h(x+h)^{4}}\"))\n",
    "display(Math(r\"\\quad \\quad \\quad \\quad = \\textcolor{red}{x\\left(x^4 + 4x^3h + 6x^2h^2 + 4xh^3 + h^4\\right)} + \\textcolor{violet}{h\\left(x^4 + 4x^3h + 6x^2h^2 + 4xh^3 + h^4\\right)}\"))\n",
    "display(Math(r\"\\quad \\quad \\quad \\quad = \\textcolor{red}{x^5 + 4x^4h + 6x^3h^2 + 4x^2h^3 + xh^4} + \\textcolor{violet}{hx^4 + 4hx^3 + 6hx^2h + 4h^2x + h^5}\"))\n",
    "display(Math(r\"\\quad \\quad \\quad \\quad = \\textcolor{red}{1}x^5 + (\\textcolor{red}{4}+\\textcolor{violet}{1})x^4h + (\\textcolor{red}{6}+\\textcolor{violet}{4})x^3h^2 + (\\textcolor{red}{4}+\\textcolor{violet}{6})x^2h^3 + (\\textcolor{red}{1}+\\textcolor{violet}{4})xh^4 + \\textcolor{violet}{1} h^5\"))\n",
    "display(Math(r\"\\quad \\quad \\quad \\quad = x^5 + 5x^4h + 10x^3h^2 + 10x^2h^3 + 5xh^4 + h^5\"))"
   ]
  },
  {
   "cell_type": "markdown",
   "metadata": {},
   "source": [
    "## Questions théoriques\n",
    "\n",
    "* Quel est le coefficient du $4^{\\text{e}}$ terme de $(x+h)^5$ et comment peut-on l'obtenir en additionnant les coefficients des termes de $(x+h)^4$ ? <font color = \"green\">[1 point] </font>\n",
    "    * Réponse:\n",
    "\n",
    "* Quel est le coefficient du $2^e$ terme de $(x+h)^{18}$? <font color = \"green\">[1 point] </font>\n",
    "    * Réponse:\n",
    "\n",
    "* Pour $f(x)=x^6$, calculez $f(x+h)-f(x)$. Remplacez les valeurs de a,b,c,d,e,g par des valeurs appropriées dans l'expression suivante. <font color = \"green\">[1 point] </font>\n",
    "    * Réponse: $a \\cdot x^6 + b \\cdot x^5h + c \\cdot x^4h^2 + d \\cdot x^3h^3 + e \\cdot x^2h^4 + f \\cdot xh^5 + g \\cdot h^6$\n",
    "* Copiez votre dernière réponse et divisez la par $h$. <font color = \"green\"> [1 point]  </font>\n",
    "    * Réponse:\n",
    "        \n",
    "* Évaluez le résultat de la limite en remplaçant <font color = \"green\"> ...  </font>. <font color = \"green\">[1 point] </font>\n",
    "    * $\\lim\\limits_{h\\to0}\\frac{f(x+h)-f(x)}{h}=...$"
   ]
  },
  {
   "cell_type": "markdown",
   "metadata": {},
   "source": []
  }
 ],
 "metadata": {
  "celltoolbar": "Slideshow",
  "kernelspec": {
   "display_name": "Python 3 (ipykernel)",
   "language": "python",
   "name": "python3"
  },
  "language_info": {
   "codemirror_mode": {
    "name": "ipython",
    "version": 3
   },
   "file_extension": ".py",
   "mimetype": "text/x-python",
   "name": "python",
   "nbconvert_exporter": "python",
   "pygments_lexer": "ipython3",
   "version": "3.11.7"
  }
 },
 "nbformat": 4,
 "nbformat_minor": 4
}
